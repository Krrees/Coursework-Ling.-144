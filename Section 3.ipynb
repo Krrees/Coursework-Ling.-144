{
 "metadata": {
  "name": ""
 },
 "nbformat": 3,
 "nbformat_minor": 0,
 "worksheets": [
  {
   "cells": [
    {
     "cell_type": "code",
     "collapsed": false,
     "input": [
      "class MyClass(object):\n",
      "    foo = 5\n",
      "    \n",
      "    def hello(self):  #Must say self! All methods have an implicit argument? I suppose I don't need to know why... \n",
      "        return \"Hello world!\"\n",
      "    \n",
      "    def funct(self, x): \n",
      "        return x*5\n",
      "    \n",
      "felix = myClass()\n",
      "felix.foo\n",
      "felix.hello()\n",
      "felix.funct(4) #This becomes x..."
     ],
     "language": "python",
     "metadata": {},
     "outputs": [
      {
       "ename": "NameError",
       "evalue": "name 'myClass' is not defined",
       "output_type": "pyerr",
       "traceback": [
        "\u001b[0;31m---------------------------------------------------------------------------\u001b[0m\n\u001b[0;31mNameError\u001b[0m                                 Traceback (most recent call last)",
        "\u001b[0;32m<ipython-input-1-305eeb9c48fd>\u001b[0m in \u001b[0;36m<module>\u001b[0;34m()\u001b[0m\n\u001b[1;32m      8\u001b[0m         \u001b[0;32mreturn\u001b[0m \u001b[0mx\u001b[0m\u001b[0;34m*\u001b[0m\u001b[0;36m5\u001b[0m\u001b[0;34m\u001b[0m\u001b[0m\n\u001b[1;32m      9\u001b[0m \u001b[0;34m\u001b[0m\u001b[0m\n\u001b[0;32m---> 10\u001b[0;31m \u001b[0mfelix\u001b[0m \u001b[0;34m=\u001b[0m \u001b[0mmyClass\u001b[0m\u001b[0;34m(\u001b[0m\u001b[0;34m)\u001b[0m\u001b[0;34m\u001b[0m\u001b[0m\n\u001b[0m\u001b[1;32m     11\u001b[0m \u001b[0mfelix\u001b[0m\u001b[0;34m.\u001b[0m\u001b[0mfoo\u001b[0m\u001b[0;34m\u001b[0m\u001b[0m\n\u001b[1;32m     12\u001b[0m \u001b[0mfelix\u001b[0m\u001b[0;34m.\u001b[0m\u001b[0mhello\u001b[0m\u001b[0;34m(\u001b[0m\u001b[0;34m)\u001b[0m\u001b[0;34m\u001b[0m\u001b[0m\n",
        "\u001b[0;31mNameError\u001b[0m: name 'myClass' is not defined"
       ]
      }
     ],
     "prompt_number": 1
    },
    {
     "cell_type": "code",
     "collapsed": false,
     "input": [
      "#Named it coin... trying to make a method that will flip the coin. \n",
      "import random #random.random()\n",
      "#random lets us generate a random number between 0-1\n",
      "\n",
      "class Coin(object): \n",
      "    #code here\n",
      "    #How do I make it so when I make a new coin, it stores the probability? \n",
      "\n",
      "        def __init__(self,string, weight): #This is a way to introduce new objects. We need to make a dictionary for what we want to store.\n",
      "            #When I make a new coin and class, do these things I define. It will store the value .72 in a variable in the \n",
      "            #coin object. \n",
      "            \n",
      "            #Do we want coin to take any arguments? First, we need the weight = probability. I then made it\n",
      "            #def __init__(self,weight), instead of just __init__(self)\n",
      "            #We want to store that inside the object, itself.\n",
      "            self.weight = weight\n",
      "    \n",
      "            \"\"\"Pretend we have lots of coins. add different coins, nicknames... I added 'string' before weight. Any name\"\"\"\n",
      "            #It puts the string into 'nickname,' and puts the number into the weight.\n",
      "            self.nickname = str(string)\n",
      "            self.weight = float(weight)\n",
      "            \n",
      "        def __str__(self):\n",
      "            return self.nickname + \": \" + str(self.weight)\n",
      "            #Those quotes put a string in there. Remember, weight isn't a string, so we can't concatenate it. That is why we said\n",
      "            #str(self.weight) to turn it into a string instead of just self.weight. \n",
      "            #Return nickname of the object AND, as a string, the weight of it. \n",
      "            \n",
      "        def flip(self):\n",
      "            #Should flip take any arguments? Arguments are things in the parentheses. It needs 'self'. It doesn't need weight, \n",
      "            #since the weight comes from self.weight. \n",
      "            #New variable, randomPoint... random pulls from the random module that we imported above, gives number from 0-1.\n",
      "            \n",
      "            randomPoint = random.random()\n",
      "            # randomPoint = 0.2338, etc. \n",
      "            #What is this if loop doing? It says: there is space between 0-1, and self.weight is a number that I have already \n",
      "            #specified (.72 for James). Anything higher than .72 is T; anything lower is H. \n",
      "            if randomPoint < self.weight: #This is a boolean, true or false thing... \n",
      "                return 'H'\n",
      "            else: \n",
      "                return 'T'\n",
      "            \n",
      "            \n",
      "            \n",
      "#Lucky is a random variable name, and 'James' is a name that I have decided to name the variable, b/c James is valuable to me...\n",
      "lucky = Coin(\"James\",.72)\n",
      "print lucky.weight\n",
      "print lucky.nickname\n",
      "print lucky\n",
      "#Printing 'lucky', tells you the location, but not the nickname. We want to make it so that when we print an object, we get more\n",
      "#useful information out of it. We fixed this with: def __str__(self): return self.nickname + \": \" + str(self.weight). \n",
      "#Now, saying 'print lucky' prints the nickname and .72!\n",
      "\n",
      "\n",
      "#Now, we want something that will flip the coin for us. \n",
      "#We can name it anything, and we chose flip to make it relevant! I added the def flip(): part below the def __str__(self): + \": \"...\n",
      "print lucky.flip()\n",
      "#Now that we have added the if look up above, it will print either H or T, depending on what it gets. \n"
     ],
     "language": "python",
     "metadata": {},
     "outputs": [
      {
       "output_type": "stream",
       "stream": "stdout",
       "text": [
        "0.72\n",
        "James\n",
        "James: 0.72\n",
        "T\n"
       ]
      }
     ],
     "prompt_number": 13
    },
    {
     "cell_type": "code",
     "collapsed": false,
     "input": [
      "#Adding extra coins, because I gamble... \n",
      "\n",
      "lucky = Coin(\"Lucky\",.72)\n",
      "fairlady = Coin(\"the Fair Lady\",.5)\n",
      "bob = Coin(\"Bob\",.2)\n",
      "#Bob is a dud, lucky is great, and my fair lady is alright.\n",
      "\n",
      "coinList = [lucky, fairlady, bob]\n",
      "#the objects are inside lucky, fairlady, and bob... those three are now in a list we made, coinList. \n",
      "\n",
      "for coin in coinList: \n",
      "    print coin\n",
      "    #This tells us all the information for each coin. \n",
      "    \n",
      "    \n",
      "for coin in coinList: #For each of those three coins, print the coins and their weight. Then, make a new empty list and fill\n",
      "    #it by appending flips of the coin!\n",
      "    print coin\n",
      "    flips = [ ]\n",
      "    for i in range(0,10):  #This tells it to flip the coin 10 times. \n",
      "        flips.append(coin.flip())\n",
      "    print \" \".join(flips)"
     ],
     "language": "python",
     "metadata": {},
     "outputs": [
      {
       "output_type": "stream",
       "stream": "stdout",
       "text": [
        "Lucky: 0.72\n",
        "the Fair Lady: 0.5\n",
        "Bob: 0.2\n",
        "Lucky: 0.72\n",
        "T H H H H T T H H T\n",
        "the Fair Lady: 0.5\n",
        "T T T T T T T H H T\n",
        "Bob: 0.2\n",
        "H T H T T T H T H H\n"
       ]
      }
     ],
     "prompt_number": 16
    },
    {
     "cell_type": "code",
     "collapsed": false,
     "input": [
      "\n",
      "    "
     ],
     "language": "python",
     "metadata": {},
     "outputs": [],
     "prompt_number": 16
    },
    {
     "cell_type": "code",
     "collapsed": false,
     "input": [
      "#Now, we are going to build a class that will help us do something linguisticky! \n",
      "class Noun(object): \n",
      "    \n",
      "    #Use the init method!! Self!! We have three options because we have apple, goose, rice, and apples, geese, and rice. \n",
      "    def __init__(self, sing, pl=None, mass=False): #If we do not provide a mass, mass is set to false. \n",
      "        #We need to save things things inside the class itself. That mass=False thing will take care of rice.\n",
      "        #This means we will probably need to say that mass=True when we want it to either pluralize or leave something \n",
      "        #as is (apples, but rice doesn't change). \n",
      "        \n",
      "        self.sing = str(sing)  #This sets teh variables. Make an attribute called single, and set that to what we specified\n",
      "        #as singular form of the noun. \n",
      "        self.pl = str(pl)\n",
      "        self.mass = mass #Mass is set to what we tell it, otherwise it will default to False, as we programmed above.\n",
      "        if pl != None: #It will be equal to None when we specify. If I set apple and apples, plurals we not be \"None\" because\n",
      "            #I gave it one. \n",
      "            self.pl = str(pl)\n",
      "        else: #If plural is none, as in, we didn't give it one, it will make it plural by adding an 's'. It pluralizes!\n",
      "            self.pl = self.sing + \"s\"\n",
      "\n",
      "            #Nouns now have all of these attributes: sing, pl, and True or False in mass.\n",
      "            \n",
      "            \n",
      "    def __str__(self):\n",
      "        return \"singular: \" + str(self.sing) + \"\\nplural: \" + str(self.pl) + \"\\nmass\" + str(self.mass)\n",
      "    #The \\n makes it on a new line. \n",
      "    #What should be returned when I ask it for apple, goose, and gohan?\n",
      "\n",
      "    def isCount(self):  #What is this??\n",
      "        return not self.mass\n",
      "    \n",
      "    def thereAre(self, num):\n",
      "        #Weeds out the mass nouns?!\n",
      "        if self.mass: \n",
      "            return \"'\" + self.sing + \"' is a mass noun.\" \n",
      "        #Use the singular form if there's only one. \n",
      "        elif num == 1: \n",
      "            return str(num) + \" \" + self.sing\n",
      "        #Use teh plural form otherwise, which includes zero and negative numbers. \n",
      "        else: \n",
      "            return str(num) + \" \" + self.pl\n",
      "        \n",
      "    \n",
      "            #'''Makes entries for apple, goose, and rice''' The indent will confuse python if it is quotes w/o a #\n",
      "\n",
      "apple = Noun(\"apple\")\n",
      "            \n",
      "goose = Noun(\"goose\",\"geese\")\n",
      "                         \n",
      "gohan = Noun(\"rice\",mass=True)  #Mass set to true means it won't pluralize it.\n",
      "    \n",
      "print gohan\n",
      "    \n"
     ],
     "language": "python",
     "metadata": {},
     "outputs": [
      {
       "output_type": "stream",
       "stream": "stdout",
       "text": [
        "singular: rice\n",
        "plural: rices\n",
        "massTrue\n"
       ]
      }
     ],
     "prompt_number": 49
    },
    {
     "cell_type": "code",
     "collapsed": false,
     "input": [],
     "language": "python",
     "metadata": {},
     "outputs": []
    }
   ],
   "metadata": {}
  }
 ]
}