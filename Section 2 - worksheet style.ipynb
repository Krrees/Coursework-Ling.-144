{
 "metadata": {
  "name": ""
 },
 "nbformat": 3,
 "nbformat_minor": 0,
 "worksheets": [
  {
   "cells": [
    {
     "cell_type": "markdown",
     "metadata": {},
     "source": [
      "# Manipulating strings as lists\n",
      "\n",
      "Let's 1) reverse the order of the characters in a string, and 2) reverse each word in a multi-word string. Some scratch space:"
     ]
    },
    {
     "cell_type": "code",
     "collapsed": false,
     "input": [
      "def reverseString(item):\n",
      "    \"\"\"\n",
      "    Reverses the order of a string\n",
      "    \n",
      "    Arguments:\n",
      "        string (a string) to reverse\n",
      "    \n",
      "    Returns:\n",
      "        reversedStr (a string) that is reversed\n",
      "        \n",
      "    Raises:\n",
      "        nothing\n",
      "    \"\"\"\n",
      "    firsttry = list(item)\n",
      "    firsttry.reverse()\n",
      "    itemstr = ''.join(firsttry)\n",
      "    return itemstr.capitalize()\n",
      "    \n",
      "    \n",
      "if __name__ == \"__main__\":\n",
      "    print reverseString(\"testing\")\n",
      "    \n",
      "#This is what I did... \n",
      "\n"
     ],
     "language": "python",
     "metadata": {},
     "outputs": [
      {
       "output_type": "stream",
       "stream": "stdout",
       "text": [
        "Gnitset\n"
       ]
      }
     ],
     "prompt_number": 6
    },
    {
     "cell_type": "code",
     "collapsed": false,
     "input": [
      "def reverseString(item):\n",
      "    \"\"\"\n",
      "    Reverses the order of a string\n",
      "    \n",
      "    Arguments:\n",
      "        string (a string) to reverse\n",
      "    \n",
      "    Returns:\n",
      "        reversedStr (a string) that is reversed\n",
      "        \n",
      "    Raises:\n",
      "        nothing\n",
      "    \"\"\"\n",
      "    li = list(string)\n",
      "    li.reverse()\n",
      "    reversedStr = ''.join(li)\n",
      "    if string[0].isupper():\n",
      "        return reversedStr.capitalize()\n",
      "    else: \n",
      "        return reversedStr\n",
      "    \n",
      "    \n",
      "if __name__ == \"__main__\":\n",
      "    print reverseString(\"Testing\")\n",
      "    \n",
      "#This is what Oliver did.... "
     ],
     "language": "python",
     "metadata": {},
     "outputs": [
      {
       "ename": "NameError",
       "evalue": "global name 'string' is not defined",
       "output_type": "pyerr",
       "traceback": [
        "\u001b[0;31m---------------------------------------------------------------------------\u001b[0m\n\u001b[0;31mNameError\u001b[0m                                 Traceback (most recent call last)",
        "\u001b[0;32m<ipython-input-8-43dcb236fbaf>\u001b[0m in \u001b[0;36m<module>\u001b[0;34m()\u001b[0m\n\u001b[1;32m     22\u001b[0m \u001b[0;34m\u001b[0m\u001b[0m\n\u001b[1;32m     23\u001b[0m \u001b[0;32mif\u001b[0m \u001b[0m__name__\u001b[0m \u001b[0;34m==\u001b[0m \u001b[0;34m\"__main__\"\u001b[0m\u001b[0;34m:\u001b[0m\u001b[0;34m\u001b[0m\u001b[0m\n\u001b[0;32m---> 24\u001b[0;31m     \u001b[0;32mprint\u001b[0m \u001b[0mreverseString\u001b[0m\u001b[0;34m(\u001b[0m\u001b[0;34m\"54321\"\u001b[0m\u001b[0;34m)\u001b[0m\u001b[0;34m\u001b[0m\u001b[0m\n\u001b[0m\u001b[1;32m     25\u001b[0m \u001b[0;34m\u001b[0m\u001b[0m\n\u001b[1;32m     26\u001b[0m \u001b[0;31m#This is what Oliver did....\u001b[0m\u001b[0;34m\u001b[0m\u001b[0;34m\u001b[0m\u001b[0m\n",
        "\u001b[0;32m<ipython-input-8-43dcb236fbaf>\u001b[0m in \u001b[0;36mreverseString\u001b[0;34m(item)\u001b[0m\n\u001b[1;32m     12\u001b[0m         \u001b[0mnothing\u001b[0m\u001b[0;34m\u001b[0m\u001b[0m\n\u001b[1;32m     13\u001b[0m     \"\"\"\n\u001b[0;32m---> 14\u001b[0;31m     \u001b[0mli\u001b[0m \u001b[0;34m=\u001b[0m \u001b[0mlist\u001b[0m\u001b[0;34m(\u001b[0m\u001b[0mstring\u001b[0m\u001b[0;34m)\u001b[0m\u001b[0;34m\u001b[0m\u001b[0m\n\u001b[0m\u001b[1;32m     15\u001b[0m     \u001b[0mli\u001b[0m\u001b[0;34m.\u001b[0m\u001b[0mreverse\u001b[0m\u001b[0;34m(\u001b[0m\u001b[0;34m)\u001b[0m\u001b[0;34m\u001b[0m\u001b[0m\n\u001b[1;32m     16\u001b[0m     \u001b[0mreversedStr\u001b[0m \u001b[0;34m=\u001b[0m \u001b[0;34m''\u001b[0m\u001b[0;34m.\u001b[0m\u001b[0mjoin\u001b[0m\u001b[0;34m(\u001b[0m\u001b[0mli\u001b[0m\u001b[0;34m)\u001b[0m\u001b[0;34m\u001b[0m\u001b[0m\n",
        "\u001b[0;31mNameError\u001b[0m: global name 'string' is not defined"
       ]
      }
     ],
     "prompt_number": 8
    },
    {
     "cell_type": "code",
     "collapsed": false,
     "input": [
      "#This is the next part of the \"now let's make a function\" segment\n",
      "def reverseWords(sentence):\n",
      "    \"\"\"\n",
      "    Reverses each token successively in a sentence (split by space)\n",
      "    \n",
      "    Arguments:\n",
      "        sentence (a string) to split and reverse\n",
      "    \n",
      "    Returns:\n",
      "        a string whole tokens are reversed\n",
      "        \n",
      "    Raises:\n",
      "        nothing\n",
      "    \"\"\"\n",
      "\n",
      "    tokens = sentence.split(\" \")\n",
      "    outStrs = []\n",
      "    for token in tokens: \n",
      "        outStrs.append(reverseString(token))\n",
      "    return \" \".join(outStrs)\n",
      "    \n",
      "if __name__ == \"__main__\":\n",
      "    print \"Intended output:\"\n",
      "    print \"Eseht era eht semit erehw s'elpoep serutan era detset .ylereves\"\n",
      "    print \"Actual output:\"\n",
      "    print reverseWords(\"These are the times where people's natures are tested severely.\")\n",
      "    \n",
      "\n",
      "#I still don't understand why the error is coming up... I didn't define something? "
     ],
     "language": "python",
     "metadata": {},
     "outputs": [
      {
       "ename": "NameError",
       "evalue": "global name 'string' is not defined",
       "output_type": "pyerr",
       "traceback": [
        "\u001b[0;31m---------------------------------------------------------------------------\u001b[0m\n\u001b[0;31mNameError\u001b[0m                                 Traceback (most recent call last)",
        "\u001b[0;32m<ipython-input-10-8a8e879f5150>\u001b[0m in \u001b[0;36m<module>\u001b[0;34m()\u001b[0m\n\u001b[1;32m     24\u001b[0m     \u001b[0;32mprint\u001b[0m \u001b[0;34m\"Eseht era eht semit erehw s'elpoep serutan era detset .ylereves\"\u001b[0m\u001b[0;34m\u001b[0m\u001b[0m\n\u001b[1;32m     25\u001b[0m     \u001b[0;32mprint\u001b[0m \u001b[0;34m\"Actual output:\"\u001b[0m\u001b[0;34m\u001b[0m\u001b[0m\n\u001b[0;32m---> 26\u001b[0;31m     \u001b[0;32mprint\u001b[0m \u001b[0mreverseWords\u001b[0m\u001b[0;34m(\u001b[0m\u001b[0;34m\"These are the times where people's natures are tested severely.\"\u001b[0m\u001b[0;34m)\u001b[0m\u001b[0;34m\u001b[0m\u001b[0m\n\u001b[0m",
        "\u001b[0;32m<ipython-input-10-8a8e879f5150>\u001b[0m in \u001b[0;36mreverseWords\u001b[0;34m(sentence)\u001b[0m\n\u001b[1;32m     17\u001b[0m     \u001b[0moutStrs\u001b[0m \u001b[0;34m=\u001b[0m \u001b[0;34m[\u001b[0m\u001b[0;34m]\u001b[0m\u001b[0;34m\u001b[0m\u001b[0m\n\u001b[1;32m     18\u001b[0m     \u001b[0;32mfor\u001b[0m \u001b[0mtoken\u001b[0m \u001b[0;32min\u001b[0m \u001b[0mtokens\u001b[0m\u001b[0;34m:\u001b[0m\u001b[0;34m\u001b[0m\u001b[0m\n\u001b[0;32m---> 19\u001b[0;31m         \u001b[0moutStrs\u001b[0m\u001b[0;34m.\u001b[0m\u001b[0mappend\u001b[0m\u001b[0;34m(\u001b[0m\u001b[0mreverseString\u001b[0m\u001b[0;34m(\u001b[0m\u001b[0mtoken\u001b[0m\u001b[0;34m)\u001b[0m\u001b[0;34m)\u001b[0m\u001b[0;34m\u001b[0m\u001b[0m\n\u001b[0m\u001b[1;32m     20\u001b[0m     \u001b[0;32mreturn\u001b[0m \u001b[0;34m\" \"\u001b[0m\u001b[0;34m.\u001b[0m\u001b[0mjoin\u001b[0m\u001b[0;34m(\u001b[0m\u001b[0moutStrs\u001b[0m\u001b[0;34m)\u001b[0m\u001b[0;34m\u001b[0m\u001b[0m\n\u001b[1;32m     21\u001b[0m \u001b[0;34m\u001b[0m\u001b[0m\n",
        "\u001b[0;32m<ipython-input-8-43dcb236fbaf>\u001b[0m in \u001b[0;36mreverseString\u001b[0;34m(item)\u001b[0m\n\u001b[1;32m     12\u001b[0m         \u001b[0mnothing\u001b[0m\u001b[0;34m\u001b[0m\u001b[0m\n\u001b[1;32m     13\u001b[0m     \"\"\"\n\u001b[0;32m---> 14\u001b[0;31m     \u001b[0mli\u001b[0m \u001b[0;34m=\u001b[0m \u001b[0mlist\u001b[0m\u001b[0;34m(\u001b[0m\u001b[0mstring\u001b[0m\u001b[0;34m)\u001b[0m\u001b[0;34m\u001b[0m\u001b[0m\n\u001b[0m\u001b[1;32m     15\u001b[0m     \u001b[0mli\u001b[0m\u001b[0;34m.\u001b[0m\u001b[0mreverse\u001b[0m\u001b[0;34m(\u001b[0m\u001b[0;34m)\u001b[0m\u001b[0;34m\u001b[0m\u001b[0m\n\u001b[1;32m     16\u001b[0m     \u001b[0mreversedStr\u001b[0m \u001b[0;34m=\u001b[0m \u001b[0;34m''\u001b[0m\u001b[0;34m.\u001b[0m\u001b[0mjoin\u001b[0m\u001b[0;34m(\u001b[0m\u001b[0mli\u001b[0m\u001b[0;34m)\u001b[0m\u001b[0;34m\u001b[0m\u001b[0m\n",
        "\u001b[0;31mNameError\u001b[0m: global name 'string' is not defined"
       ]
      },
      {
       "output_type": "stream",
       "stream": "stdout",
       "text": [
        "Intended output:\n",
        "Eseht era eht semit erehw s'elpoep serutan era detset .ylereves\n",
        "Actual output:\n"
       ]
      }
     ],
     "prompt_number": 10
    },
    {
     "cell_type": "code",
     "collapsed": false,
     "input": [],
     "language": "python",
     "metadata": {},
     "outputs": [],
     "prompt_number": 15
    },
    {
     "cell_type": "code",
     "collapsed": false,
     "input": [],
     "language": "python",
     "metadata": {},
     "outputs": [],
     "prompt_number": 20
    },
    {
     "cell_type": "code",
     "collapsed": false,
     "input": [],
     "language": "python",
     "metadata": {},
     "outputs": [],
     "prompt_number": 21
    },
    {
     "cell_type": "markdown",
     "metadata": {},
     "source": [
      "## Now make it a function"
     ]
    },
    {
     "cell_type": "code",
     "collapsed": false,
     "input": [
      "def reverseString(string):\n",
      "    \"\"\"\n",
      "    Reverses the order of a string\n",
      "    \n",
      "    Arguments:\n",
      "        string (a string) to reverse\n",
      "    \n",
      "    Returns:\n",
      "        reversedStr (a string) that is reversed\n",
      "        \n",
      "    Raises:\n",
      "        nothing\n",
      "    \"\"\"\n",
      "    # Your code here       \n",
      "    \n",
      "if __name__ == \"__main__\":\n",
      "    print reverseString(\"testing\")"
     ],
     "language": "python",
     "metadata": {},
     "outputs": [],
     "prompt_number": 23
    },
    {
     "cell_type": "markdown",
     "metadata": {},
     "source": [
      "Let's have it do more than a single word:"
     ]
    },
    {
     "cell_type": "code",
     "collapsed": false,
     "input": [
      "def reverseWords(sentence):\n",
      "    \"\"\"\n",
      "    Reverses each token successively in a sentence (split by space)\n",
      "    \n",
      "    Arguments:\n",
      "        sentence (a string) to split and reverse\n",
      "    \n",
      "    Returns:\n",
      "        a string whole tokens are reversed\n",
      "        \n",
      "    Raises:\n",
      "        nothing\n",
      "    \"\"\"\n",
      "\n",
      "    # Your code here\n",
      "    \n",
      "if __name__ == \"__main__\":\n",
      "    print \"Intended output:\"\n",
      "    print \"Eseht era eht semit erehw s'elpoep serutan era detset .ylereves\"\n",
      "    print \"Actual output:\"\n",
      "    print reverseWords(\"These are the times where people's natures are tested severely.\")"
     ],
     "language": "python",
     "metadata": {},
     "outputs": [],
     "prompt_number": 27
    },
    {
     "cell_type": "markdown",
     "metadata": {},
     "source": [
      "# Sorting lists by key functions"
     ]
    },
    {
     "cell_type": "markdown",
     "metadata": {},
     "source": [
      "Goal: Sort a list of strings by the position of the first 'e'\n",
      "\n",
      "But first, let's just sort alphabetically, reverse alphabetically, and by length"
     ]
    },
    {
     "cell_type": "code",
     "collapsed": false,
     "input": [
      "test = \"Eseht era eht semit erehw s'elpoep serutan era detset .ylereves\"\n",
      "#We want to sort it... we can sort lists, but not strings. We need to re-cast it. We need to break it into a list. \n",
      "\n",
      "tokens = test.split(\" \")\n",
      "#This is taking the sentence above and splits the sentence, removing the spaces.\n",
      "tokens.sort()\n",
      "print tokens\n",
      "#It sorts according to punctuation, followed by capitalization, and then alphabetically. \n"
     ],
     "language": "python",
     "metadata": {},
     "outputs": [
      {
       "output_type": "stream",
       "stream": "stdout",
       "text": [
        "['.ylereves', 'Eseht', 'detset', 'eht', 'era', 'era', 'erehw', \"s'elpoep\", 'semit', 'serutan']\n"
       ]
      }
     ],
     "prompt_number": 12
    },
    {
     "cell_type": "code",
     "collapsed": false,
     "input": [
      "test = \"Eseht era eht semit erehw s'elpoep serutan era detset .ylereves\"\n",
      "#We want to sort it... we can sort lists, but not strings. We need to re-cast it. We need to break it into a list. \n",
      "\n",
      "tokens = test.split(\" \")\n",
      "#This is taking the sentence above and splits the sentence, removing the spaces.\n",
      "tokens.sort(reverse=True)\n",
      "print tokens\n",
      "#This sorts it reverse-alphabetically. "
     ],
     "language": "python",
     "metadata": {},
     "outputs": [
      {
       "output_type": "stream",
       "stream": "stdout",
       "text": [
        "['serutan', 'semit', \"s'elpoep\", 'erehw', 'era', 'era', 'eht', 'detset', 'Eseht', '.ylereves']\n"
       ]
      }
     ],
     "prompt_number": 13
    },
    {
     "cell_type": "code",
     "collapsed": false,
     "input": [
      "test = \"Eseht era eht semit erehw s'elpoep serutan era detset .ylereves\"\n",
      "#We want to sort it... we can sort lists, but not strings. We need to re-cast it. We need to break it into a list. \n",
      "\n",
      "tokens = test.split(\" \")\n",
      "#This is taking the sentence above and splits the sentence, removing the spaces.\n",
      "#We need to call length on something. It needs to look at each individual token in the tokens list. Can be done two ways.\n",
      "#First, we can define a function. \n",
      "def myLen(x): \n",
      "    return len(x)\n",
      "#Merely returns the length of what you give it. \n",
      "print tokens\n",
      "tokens.sort(key=len)\n",
      "print tokens\n",
      "\n",
      "#We can sort this by the length of each word! \n"
     ],
     "language": "python",
     "metadata": {},
     "outputs": [
      {
       "output_type": "stream",
       "stream": "stdout",
       "text": [
        "['Eseht', 'era', 'eht', 'semit', 'erehw', \"s'elpoep\", 'serutan', 'era', 'detset', '.ylereves']\n",
        "['era', 'eht', 'era', 'Eseht', 'semit', 'erehw', 'detset', 'serutan', \"s'elpoep\", '.ylereves']\n"
       ]
      }
     ],
     "prompt_number": 16
    },
    {
     "cell_type": "code",
     "collapsed": false,
     "input": [],
     "language": "python",
     "metadata": {},
     "outputs": [],
     "prompt_number": 46
    },
    {
     "cell_type": "code",
     "collapsed": false,
     "input": [],
     "language": "python",
     "metadata": {},
     "outputs": [],
     "prompt_number": 48
    },
    {
     "cell_type": "markdown",
     "metadata": {},
     "source": [
      "Ok, now let's make a more complex function to use as the sorting key"
     ]
    },
    {
     "cell_type": "code",
     "collapsed": false,
     "input": [
      "# Sort by the following convention:\n",
      "# the location of the first 'e' in the sentence\n",
      "\n",
      "def getFirstInstance(string, substring):\n",
      "    \"\"\"\n",
      "    gets the location of the first substring in a string\n",
      "    \n",
      "    Arguments:\n",
      "        string (a string) to examine\n",
      "        substring (a string) to look for\n",
      "    \n",
      "    Returns:\n",
      "        the first index of substring\n",
      "        \n",
      "    Raises:\n",
      "        nothing\n",
      "    \"\"\"\n",
      "    # Your code here\n",
      "\n",
      "def getFirstE(string):\n",
      "    # your code here\n",
      "\n",
      "if __name__ == \"__main__\":\n",
      "    test = \"Eseht era eht semit erehw s'elpoep serutan era detset .ylereves\"\n",
      "    tokens = test.split(\" \")\n",
      "    tokens.sort(key=getFirstE)\n",
      "    print tokens"
     ],
     "language": "python",
     "metadata": {},
     "outputs": []
    },
    {
     "cell_type": "markdown",
     "metadata": {},
     "source": [
      "Why use find() vs index()?"
     ]
    },
    {
     "cell_type": "code",
     "collapsed": false,
     "input": [],
     "language": "python",
     "metadata": {},
     "outputs": [],
     "prompt_number": 53
    },
    {
     "cell_type": "markdown",
     "metadata": {},
     "source": [
      "# Fun with dictionaries\n",
      "\n",
      "What does this code do?"
     ]
    },
    {
     "cell_type": "code",
     "collapsed": false,
     "input": [
      "def getMobyDickWords():\n",
      "    mobydick = \"\"\"Call me Ishmael. Some years ago -- never mind how long precisely--having\n",
      "little or no money in my purse, and nothing particular to interest me on\n",
      "shore, I thought I would sail about a little and see the watery part of\n",
      "the world. It is a way I have of driving off the spleen and regulating\n",
      "the circulation. Whenever I find myself growing grim about the mouth;\n",
      "whenever it is a damp, drizzly November in my soul; whenever I find\n",
      "myself involuntarily pausing before coffin warehouses, and bringing up\n",
      "the rear of every funeral I meet; and especially whenever my hypos get\n",
      "such an upper hand of me, that it requires a strong moral principle to\n",
      "prevent me from deliberately stepping into the street, and methodically\n",
      "knocking people's hats off -- then, I account it high time to get to sea\n",
      "as soon as I can. This is my substitute for pistol and ball. With a\n",
      "philosophical flourish Cato throws himself upon his sword; I quietly\n",
      "take to the ship. There is nothing surprising in this. If they but knew\n",
      "it, almost all men in their degree, some time or other, cherish very\n",
      "nearly the same feelings towards the ocean with me.\n",
      "\n",
      "There now is your insular city of the Manhattoes, belted round by\n",
      "wharves as Indian isles by coral reefs -- commerce surrounds it with\n",
      "her surf. Right and left, the streets take you waterward. Its extreme\n",
      "downtown is the battery, where that noble mole is washed by waves, and\n",
      "cooled by breezes, which a few hours previous were out of sight of land.\n",
      "Look at the crowds of water-gazers there.\"\"\"\n",
      "    normedText = mobydick.replace(\"\\n\", \" \")\n",
      "    punctuation = \";:,.?!-\"\n",
      "    for punct in punctuation:\n",
      "        normedText = normedText.replace(punct, \"\")\n",
      "    return filter(lambda x: x != \"\", normedText.split(\" \"))"
     ],
     "language": "python",
     "metadata": {},
     "outputs": [],
     "prompt_number": 54
    },
    {
     "cell_type": "code",
     "collapsed": false,
     "input": [
      "words = getMobyDickWords()\n",
      "print words"
     ],
     "language": "python",
     "metadata": {},
     "outputs": [],
     "prompt_number": 57
    },
    {
     "cell_type": "markdown",
     "metadata": {},
     "source": [
      "Let's make a dictionary of word frequencies, like from lecture"
     ]
    },
    {
     "cell_type": "code",
     "collapsed": false,
     "input": [
      "frequencies = {}\n",
      "# Your code here. How do we loop through the words in the 'words' list?\n",
      "\n",
      "print frequencies"
     ],
     "language": "python",
     "metadata": {},
     "outputs": [],
     "prompt_number": 62
    },
    {
     "cell_type": "markdown",
     "metadata": {},
     "source": [
      "Now let's get the frequency of the first letters. First, how do we drill down to get at words and their frequencies in the dict we just made?"
     ]
    },
    {
     "cell_type": "code",
     "collapsed": false,
     "input": [],
     "language": "python",
     "metadata": {},
     "outputs": [],
     "prompt_number": 66
    },
    {
     "cell_type": "code",
     "collapsed": false,
     "input": [
      "frequenciesLetters = {}\n",
      "\n",
      "# Your code here. Get the words from our other dictionary and make a new one for the first letters from it.\n",
      "\n",
      "print frequenciesLetters"
     ],
     "language": "python",
     "metadata": {},
     "outputs": [],
     "prompt_number": 68
    },
    {
     "cell_type": "markdown",
     "metadata": {},
     "source": [
      "We can sort frequenciesLetters by the keys (i.e., the letters) pretty easily."
     ]
    },
    {
     "cell_type": "code",
     "collapsed": false,
     "input": [],
     "language": "python",
     "metadata": {},
     "outputs": [],
     "prompt_number": 71
    },
    {
     "cell_type": "code",
     "collapsed": false,
     "input": [],
     "language": "python",
     "metadata": {},
     "outputs": [],
     "prompt_number": 74
    },
    {
     "cell_type": "markdown",
     "metadata": {},
     "source": [
      "But how can we sort by frequency?"
     ]
    },
    {
     "cell_type": "code",
     "collapsed": false,
     "input": [],
     "language": "python",
     "metadata": {},
     "outputs": [],
     "prompt_number": 77
    },
    {
     "cell_type": "code",
     "collapsed": false,
     "input": [],
     "language": "python",
     "metadata": {},
     "outputs": [],
     "prompt_number": 80
    },
    {
     "cell_type": "markdown",
     "metadata": {},
     "source": [
      "# Dictionaries of dictionaries (yo dawg)\n",
      "\n",
      "The dictionary below holds verbs. Each verb is the key for a dictionary of its thematic roles. Each thematic role is a dictionary of the sentence structures that the role can appear in with the verb in question."
     ]
    },
    {
     "cell_type": "code",
     "collapsed": false,
     "input": [
      "thetaMap = {}\n",
      "thetaMap[\"destroy\"] = {}\n",
      "thetaMap[\"destroy\"][\"Agent\"] = [(\"S\", \"NP V NP\"), (\"S\", \"NP V NP PP.INSTRUMENT\")]\n",
      "thetaMap[\"destroy\"][\"Patient\"] = [(\"S\", \"NP V NP\"), (\"S\", \"NP V NP PP.INSTRUMENT\"), (\"S\", \"PP.INSTRUMENT V NP\")]"
     ],
     "language": "python",
     "metadata": {},
     "outputs": [],
     "prompt_number": 3
    },
    {
     "cell_type": "markdown",
     "metadata": {},
     "source": [
      "These are very powerful. What does the code below do?"
     ]
    },
    {
     "cell_type": "code",
     "collapsed": false,
     "input": [
      "def struxOverlap(verb, role1, role2):\n",
      "    global thetaMap\n",
      "    overlap = []\n",
      "    verbEntry = thetaMap[verb]\n",
      "    overlap = [strux for strux in verbEntry[role1] if strux in verbEntry[role2]]\n",
      "    return overlap\n",
      "\n",
      "print struxOverlap(\"destroy\", \"Agent\", \"Patient\")"
     ],
     "language": "python",
     "metadata": {},
     "outputs": [
      {
       "output_type": "stream",
       "stream": "stdout",
       "text": [
        "[('S', 'NP V NP'), ('S', 'NP V NP PP.INSTRUMENT')]\n"
       ]
      }
     ],
     "prompt_number": 6
    },
    {
     "cell_type": "code",
     "collapsed": false,
     "input": [],
     "language": "python",
     "metadata": {},
     "outputs": []
    }
   ],
   "metadata": {}
  }
 ]
}