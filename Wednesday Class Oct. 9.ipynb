{
 "metadata": {
  "name": ""
 },
 "nbformat": 3,
 "nbformat_minor": 0,
 "worksheets": [
  {
   "cells": [
    {
     "cell_type": "code",
     "collapsed": false,
     "input": [
      "#We are working on looping??\n",
      "\n",
      "def pow(base, exp):\n",
      "    \"\"\"This function computes base^exp\n",
      "    pow (2,4) = 16\n",
      "    pow(3, 2) = 9\n",
      "    \"\"\"\n",
      "    ans = 1\n",
      "    for i in range(0,exp): \n",
      "        ans = ans*base\n",
      "        #Here, we are multiplying three by two, meaning we want the range (above) to go from 1-2\n",
      "        pow(3,2)\n",
      "        #Nothing happens at first because we haven't told it to return anything from this function\n",
      "        \n",
      "        #This is flawed! The original base is lost once it the loop has gone through once.\n",
      "def pow(base, exp):\n",
      "    \"\"\"This function computes base^exp\n",
      "    pow (2,4) = 16\n",
      "    pow(3, 2) = 9\n",
      "    \"\"\"\n",
      "    #ans = 1\n",
      "    for i in range(0,exp): \n",
      "        base = base*base\n",
      "    return base\n",
      "returnVal = pow(3,2)\n",
      "print returnVal\n",
      "        \n",
      "    \n",
      "    \n",
      "    #When referencing a value, look at global and then local? \n",
      "    \n",
      "    #It either looks to the local scope or to the global scope? \n",
      "    #In python, you can define functions within other functions. Can look at other variables\n",
      "    #within definition of other functions. \n",
      "    \n",
      "    \"\"\"If I am a function and I reference a variable, python will find the name for the variable. \n",
      "    It will look in my local environment, in the local environment of my parent, my parent's parents,\n",
      "    etc. all the way up. It will look in 'global' last. This is for reference. \n",
      "    For assignment: If I am assigning a value to a variable, it will look at local unless I tell it to \n",
      "    look at it globally. \n",
      "    You can't change the value of things in functions... this is not entirely true! \n",
      "    You can make x into a list? As in x = [3]?\n",
      "    There is a difference between assignment (what it points to) and changing the values inside the complex\n",
      "    (frames and things...)\n",
      "    Strings, tuples, and something else are immutable. This means that when you change the value of these\n",
      "    things, you actually change what it points to. With lists, when you change the internal contents, you \n",
      "    are changing the actual values inside. \n",
      "    **If you referene something, you'll go up the global and parent sequence. Try to change the value, then\n",
      "    it will do something locally. That won't happen for lists and dictionaries effectively because you are\n",
      "    changing the contents for them. \n",
      "    \n",
      "    Something about making the list empty... it gives you a new block of memory when you do that. \n",
      "    \n",
      "    Overall theory of scope: when you are declaring a new value, the system will look locally. \n",
      "    When changing something internally, you can look to the global things. The only thigns you can change the\n",
      "    internals of without changing the external part are dictionaries and lists. \n",
      "    Strings can't be changed inside. \n",
      "    You can update things inside functions. \n",
      "    \n",
      "    \"\"\""
     ],
     "language": "python",
     "metadata": {},
     "outputs": [],
     "prompt_number": 4
    },
    {
     "cell_type": "code",
     "collapsed": false,
     "input": [
      "range(0,2)"
     ],
     "language": "python",
     "metadata": {},
     "outputs": [
      {
       "metadata": {},
       "output_type": "pyout",
       "prompt_number": 3,
       "text": [
        "[0, 1]"
       ]
      }
     ],
     "prompt_number": 3
    },
    {
     "cell_type": "code",
     "collapsed": false,
     "input": [],
     "language": "python",
     "metadata": {},
     "outputs": []
    }
   ],
   "metadata": {}
  }
 ]
}