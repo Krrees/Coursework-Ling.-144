{
 "metadata": {
  "name": ""
 },
 "nbformat": 3,
 "nbformat_minor": 0,
 "worksheets": [
  {
   "cells": [
    {
     "cell_type": "code",
     "collapsed": false,
     "input": [
      "#Talking about something in the homework: \n",
      "\n",
      "    \n",
      "#Dictionary! [{ }] #Lists of dictionaries! [{},{}]\n",
      "#Iteratively, the algorithms (in this case) take two values at a time, sees if they are out of order, then swaps if need be.\n",
      "#It will go down the line and compare each one, moving each time something is out of order. \n",
      "#The sort routine doesn't do this thing [ 2 | 10 | 5 | 3 | 4 ]... we will be programming this algorithm.\n",
      "#It runs the key function on what it's pulled out... they key function gest run every time it looks at a variable. \n",
      "\n",
      "#(keyFn(li[0])keyFn(li[1])... v1 compare v2? \n",
      "\n",
      "#How would you sort a list that had keys of different types?\n",
      "\n",
      "#sorted(list, key=keyFn)\n",
      "#How do you return an item to the end of a list? \n",
      "\n",
      "#def keyFn(element):\n",
      "#if type(element) == dict: \n",
      "#    return element[\"word\"]\n",
      "#else: ... is a list\n",
      "\n",
      "#return element[-1]\n",
      "#New info! It allows you to do anything, \"turring complete.\" Can sort arbitrary collections of things by arbitrary standards. \n",
      "\n",
      "\n",
      "#Comparison function!! \n",
      "\n",
      "\n",
      "\n",
      "#Print(format, value1, value2, value3]\n",
      "#Print \u201cThis is a stringa; %s (\u201cHello\u201d)\n",
      "\n",
      "#print \"This is a string: %s\" % (\"hello\")\n",
      "#print \"This is an integer: %10d\" % (43)\n",
      "#print \"This is a float: %10.10f\" % (43)\n",
      "#int \"\"\"'%s', said the man, chopping %d logs. \n",
      "#As he chopped those %d logs, he sighted.\"\"\" % (\"hello\".capitzlie(), 43, 43)\n",
      "\n",
      "#Use the keyword and you don't have to put things in order! \n",
      "#There is something I'm missing. \n",
      "\n",
      "f = open(\"test.crv\", \"r\")\n",
      "fb = open(\"filename2\", \"w\")\n",
      "#fb.write(\"test\")\n",
      "#fb.close()\n",
      "#for line in f.readlines():\n",
      "    #line.rstrip(\"\\n\")\n",
      "\n",
      "\n",
      "\n",
      "#IMPORTANT PART??\n",
      "li = f.readline() #Reads the line\n",
      "li = li.rstrip() #Adds a line\n",
      "li.split(\",\") #Makes it and separates the things by comma\n",
      "stuff = li.split(\",\") #Takes away the line??\n",
      "print stuff [-1], stuff[0]\n",
      "#Why does it print ona new line? To delete new lines, you can run a function called 'strip'. \n",
      "\n",
      "#How do we read a bunch of lines at a time? You can start by getting all of the lines at once. \n",
      "\n",
      "for li in lines: \n",
      "    stuff = li.split(\",\")\n",
      "    print stuff[1]+3  #However, it can't concatenate a string and an integer! Change it to this: print int(stuff[1]) + 3\n",
      "#print lines[-1]  #Like any list, you can loop over it. \n"
     ],
     "language": "python",
     "metadata": {},
     "outputs": [
      {
       "ename": "IOError",
       "evalue": "[Errno 2] No such file or directory: 'test.crv'",
       "output_type": "pyerr",
       "traceback": [
        "\u001b[0;31m---------------------------------------------------------------------------\u001b[0m\n\u001b[0;31mIOError\u001b[0m                                   Traceback (most recent call last)",
        "\u001b[0;32m<ipython-input-26-c47db011e033>\u001b[0m in \u001b[0;36m<module>\u001b[0;34m()\u001b[0m\n\u001b[1;32m     40\u001b[0m \u001b[0;31m#There is something I'm missing.\u001b[0m\u001b[0;34m\u001b[0m\u001b[0;34m\u001b[0m\u001b[0m\n\u001b[1;32m     41\u001b[0m \u001b[0;34m\u001b[0m\u001b[0m\n\u001b[0;32m---> 42\u001b[0;31m \u001b[0mf\u001b[0m \u001b[0;34m=\u001b[0m \u001b[0mopen\u001b[0m\u001b[0;34m(\u001b[0m\u001b[0;34m\"test.crv\"\u001b[0m\u001b[0;34m,\u001b[0m \u001b[0;34m\"r\"\u001b[0m\u001b[0;34m)\u001b[0m\u001b[0;34m\u001b[0m\u001b[0m\n\u001b[0m\u001b[1;32m     43\u001b[0m \u001b[0mfb\u001b[0m \u001b[0;34m=\u001b[0m \u001b[0mopen\u001b[0m\u001b[0;34m(\u001b[0m\u001b[0;34m\"filename2\"\u001b[0m\u001b[0;34m,\u001b[0m \u001b[0;34m\"w\"\u001b[0m\u001b[0;34m)\u001b[0m\u001b[0;34m\u001b[0m\u001b[0m\n\u001b[1;32m     44\u001b[0m \u001b[0;31m#fb.write(\"test\")\u001b[0m\u001b[0;34m\u001b[0m\u001b[0;34m\u001b[0m\u001b[0m\n",
        "\u001b[0;31mIOError\u001b[0m: [Errno 2] No such file or directory: 'test.crv'"
       ]
      }
     ],
     "prompt_number": 26
    },
    {
     "cell_type": "code",
     "collapsed": false,
     "input": [
      "fb.close[]  #You need to close it when you are done; otherwise, it will not show up! "
     ],
     "language": "python",
     "metadata": {},
     "outputs": [
      {
       "ename": "SyntaxError",
       "evalue": "invalid syntax (<ipython-input-27-786a07f2064b>, line 1)",
       "output_type": "pyerr",
       "traceback": [
        "\u001b[0;36m  File \u001b[0;32m\"<ipython-input-27-786a07f2064b>\"\u001b[0;36m, line \u001b[0;32m1\u001b[0m\n\u001b[0;31m    fb.close[]\u001b[0m\n\u001b[0m             ^\u001b[0m\n\u001b[0;31mSyntaxError\u001b[0m\u001b[0;31m:\u001b[0m invalid syntax\n"
       ]
      }
     ],
     "prompt_number": 27
    },
    {
     "cell_type": "code",
     "collapsed": false,
     "input": [
      "#The 'w' overwrote something... If you want it to add without overwriting, you can do:\n",
      "fb = open(\"filename2\", \"a\")\n",
      "fb.write(\"test\\n\")\n",
      "#Can we deal with csvs in a way that doesn't require us to split these things? Yes! \n",
      "#Three types of file formats. \n",
      "\n",
      "#Plain text. , csv, json\n",
      "\n",
      "#import csv\n",
      "#f = open(\"test.csv\", \"r\")\n",
      "#csvF = csv.DictReader(f, fieldnames=[\"A\",\"B\",\"C\",\"D\"])  #This tells it the column names. You can then do a for loop over it. \n",
      "#rows = [x for x in csvF]\n",
      "#rows\n",
      "\n",
      "#It will print rows of things... I'd like it to use the header I already have, rather than making me do it each time. \n",
      "#Python isn't the best about this, unless they updated. \n",
      "\n",
      "header = f.readline()\n",
      "header\n",
      "#Want to get rid of new line and then split it\n",
      "header=header.rstrip()  #This will be confusing\n",
      "print header\n",
      "\n",
      "#Crucial to know about files! Calling read line tells it to point to and look at different parts of the code, moving\n",
      "#forward along it. \n",
      "#There are ways of getting around whatever sort of problem arose from it. \n",
      "print f.tell()\n",
      "\n",
      "csvF = csv.DictReader(f, fieldnames=headerInfo)"
     ],
     "language": "python",
     "metadata": {},
     "outputs": [
      {
       "ename": "NameError",
       "evalue": "name 'f' is not defined",
       "output_type": "pyerr",
       "traceback": [
        "\u001b[0;31m---------------------------------------------------------------------------\u001b[0m\n\u001b[0;31mNameError\u001b[0m                                 Traceback (most recent call last)",
        "\u001b[0;32m<ipython-input-36-bcf204c870f4>\u001b[0m in \u001b[0;36m<module>\u001b[0;34m()\u001b[0m\n\u001b[1;32m     16\u001b[0m \u001b[0;31m#Python isn't the best about this, unless they updated.\u001b[0m\u001b[0;34m\u001b[0m\u001b[0;34m\u001b[0m\u001b[0m\n\u001b[1;32m     17\u001b[0m \u001b[0;34m\u001b[0m\u001b[0m\n\u001b[0;32m---> 18\u001b[0;31m \u001b[0mheader\u001b[0m \u001b[0;34m=\u001b[0m \u001b[0mf\u001b[0m\u001b[0;34m.\u001b[0m\u001b[0mreadline\u001b[0m\u001b[0;34m(\u001b[0m\u001b[0;34m)\u001b[0m\u001b[0;34m\u001b[0m\u001b[0m\n\u001b[0m\u001b[1;32m     19\u001b[0m \u001b[0mheader\u001b[0m\u001b[0;34m\u001b[0m\u001b[0m\n\u001b[1;32m     20\u001b[0m \u001b[0;31m#Want to get rid of new line and then split it\u001b[0m\u001b[0;34m\u001b[0m\u001b[0;34m\u001b[0m\u001b[0m\n",
        "\u001b[0;31mNameError\u001b[0m: name 'f' is not defined"
       ]
      }
     ],
     "prompt_number": 36
    },
    {
     "cell_type": "code",
     "collapsed": false,
     "input": [
      "#json = java script notation\n",
      "import json\n",
      "#json.dumps(rows)  #dumps thing into a string. Json dumps the things we were working with earlier into a string. There will\n",
      "#be quotes on everything, seeing as things have been turned into a string. It re-ordered them... the orders in dictionaries\n",
      "#are very fickle. Javascript adopted a way of writing complex dictionaries that is identical to python. \n",
      "#Through python, we know something about the object notation. \n",
      "#Great.... \n",
      "#Json is a string representation of that format (hence the quotes). \n",
      "#Why is this important? \n",
      "#Web services will ask you in which form you want to see data? Answer is always json because it is comprehensible and can \n",
      "#be turned into python! \n",
      "\n",
      "jsonStr = \"[\"jhtfgikj\", \"mnmv\", 13]\"  #Inside, we see a string, string, integer\n",
      "jsonStr[0]"
     ],
     "language": "python",
     "metadata": {},
     "outputs": [
      {
       "metadata": {},
       "output_type": "pyout",
       "prompt_number": 43,
       "text": [
        "'['"
       ]
      }
     ],
     "prompt_number": 43
    },
    {
     "cell_type": "code",
     "collapsed": false,
     "input": [
      "json.loads[jsonStr]"
     ],
     "language": "python",
     "metadata": {},
     "outputs": [
      {
       "ename": "TypeError",
       "evalue": "'function' object has no attribute '__getitem__'",
       "output_type": "pyerr",
       "traceback": [
        "\u001b[0;31m---------------------------------------------------------------------------\u001b[0m\n\u001b[0;31mTypeError\u001b[0m                                 Traceback (most recent call last)",
        "\u001b[0;32m<ipython-input-44-06aede2978cc>\u001b[0m in \u001b[0;36m<module>\u001b[0;34m()\u001b[0m\n\u001b[0;32m----> 1\u001b[0;31m \u001b[0mjson\u001b[0m\u001b[0;34m.\u001b[0m\u001b[0mloads\u001b[0m\u001b[0;34m[\u001b[0m\u001b[0mjsonStr\u001b[0m\u001b[0;34m]\u001b[0m\u001b[0;34m\u001b[0m\u001b[0m\n\u001b[0m",
        "\u001b[0;31mTypeError\u001b[0m: 'function' object has no attribute '__getitem__'"
       ]
      }
     ],
     "prompt_number": 44
    },
    {
     "cell_type": "code",
     "collapsed": false,
     "input": [
      "#Well, it worked when the instructor did it... \n",
      "f = open(\"jsonWritten.json\", \"w\")\n",
      "json.dump(\"rows\", \"fj\")\n",
      "#Must close things before we cna look at them! \n",
      "fj.close()\n"
     ],
     "language": "python",
     "metadata": {},
     "outputs": [
      {
       "ename": "AttributeError",
       "evalue": "'str' object has no attribute 'write'",
       "output_type": "pyerr",
       "traceback": [
        "\u001b[0;31m---------------------------------------------------------------------------\u001b[0m\n\u001b[0;31mAttributeError\u001b[0m                            Traceback (most recent call last)",
        "\u001b[0;32m<ipython-input-48-b2bab409d1ec>\u001b[0m in \u001b[0;36m<module>\u001b[0;34m()\u001b[0m\n\u001b[1;32m      1\u001b[0m \u001b[0;31m#Well, it worked when the instructor did it...\u001b[0m\u001b[0;34m\u001b[0m\u001b[0;34m\u001b[0m\u001b[0m\n\u001b[1;32m      2\u001b[0m \u001b[0mf\u001b[0m \u001b[0;34m=\u001b[0m \u001b[0mopen\u001b[0m\u001b[0;34m(\u001b[0m\u001b[0;34m\"jsonWritten.json\"\u001b[0m\u001b[0;34m,\u001b[0m \u001b[0;34m\"w\"\u001b[0m\u001b[0;34m)\u001b[0m\u001b[0;34m\u001b[0m\u001b[0m\n\u001b[0;32m----> 3\u001b[0;31m \u001b[0mjson\u001b[0m\u001b[0;34m.\u001b[0m\u001b[0mdump\u001b[0m\u001b[0;34m(\u001b[0m\u001b[0;34m\"rows\"\u001b[0m\u001b[0;34m,\u001b[0m \u001b[0;34m\"fj\"\u001b[0m\u001b[0;34m)\u001b[0m\u001b[0;34m\u001b[0m\u001b[0m\n\u001b[0m\u001b[1;32m      4\u001b[0m \u001b[0;31m#Must close things before we cna look at them!\u001b[0m\u001b[0;34m\u001b[0m\u001b[0;34m\u001b[0m\u001b[0m\n\u001b[1;32m      5\u001b[0m \u001b[0mfj\u001b[0m\u001b[0;34m.\u001b[0m\u001b[0mclose\u001b[0m\u001b[0;34m(\u001b[0m\u001b[0;34m)\u001b[0m\u001b[0;34m\u001b[0m\u001b[0m\n",
        "\u001b[0;32m//anaconda/python.app/Contents/lib/python2.7/json/__init__.pyc\u001b[0m in \u001b[0;36mdump\u001b[0;34m(obj, fp, skipkeys, ensure_ascii, check_circular, allow_nan, cls, indent, separators, encoding, default, sort_keys, **kw)\u001b[0m\n\u001b[1;32m    188\u001b[0m     \u001b[0;31m# a debuggability cost\u001b[0m\u001b[0;34m\u001b[0m\u001b[0;34m\u001b[0m\u001b[0m\n\u001b[1;32m    189\u001b[0m     \u001b[0;32mfor\u001b[0m \u001b[0mchunk\u001b[0m \u001b[0;32min\u001b[0m \u001b[0miterable\u001b[0m\u001b[0;34m:\u001b[0m\u001b[0;34m\u001b[0m\u001b[0m\n\u001b[0;32m--> 190\u001b[0;31m         \u001b[0mfp\u001b[0m\u001b[0;34m.\u001b[0m\u001b[0mwrite\u001b[0m\u001b[0;34m(\u001b[0m\u001b[0mchunk\u001b[0m\u001b[0;34m)\u001b[0m\u001b[0;34m\u001b[0m\u001b[0m\n\u001b[0m\u001b[1;32m    191\u001b[0m \u001b[0;34m\u001b[0m\u001b[0m\n\u001b[1;32m    192\u001b[0m \u001b[0;34m\u001b[0m\u001b[0m\n",
        "\u001b[0;31mAttributeError\u001b[0m: 'str' object has no attribute 'write'"
       ]
      }
     ],
     "prompt_number": 48
    },
    {
     "cell_type": "code",
     "collapsed": false,
     "input": [],
     "language": "python",
     "metadata": {},
     "outputs": []
    }
   ],
   "metadata": {}
  }
 ]
}